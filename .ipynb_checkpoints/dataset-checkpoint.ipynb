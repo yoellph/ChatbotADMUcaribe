{
 "cells": [
  {
   "cell_type": "code",
   "execution_count": 1,
   "id": "87c53c54",
   "metadata": {},
   "outputs": [],
   "source": [
    "import pathlib\n",
    "import pandas as df"
   ]
  },
  {
   "cell_type": "code",
   "execution_count": 2,
   "id": "731eac04",
   "metadata": {},
   "outputs": [],
   "source": [
    "def load_data(path):\n",
    "    with open(path, \"r\") as tf:\n",
    "        lines = tf.read().split('\\n')\n",
    "    return lines"
   ]
  },
  {
   "cell_type": "code",
   "execution_count": 3,
   "id": "caaa1c34",
   "metadata": {},
   "outputs": [],
   "source": [
    "verbos = 'E:/proyectoterminal/trt/verbos.txt'\n",
    "dias = 'E:/proyectoterminal/trt/dias.txt'\n",
    "frase = 'E:/proyectoterminal/trt/frase.txt'\n",
    "horas = 'E:/proyectoterminal/trt/horas.txt'\n",
    "materias = 'E:/proyectoterminal/trt/materias.txt'\n",
    "profes = 'E:/proyectoterminal/trt/profes.txt'\n",
    "time = 'E:/proyectoterminal/trt/time.txt'\n",
    "verbos = load_data(verbos)\n",
    "dias = load_data(dias)\n",
    "frase = load_data(frase)\n",
    "horas = load_data(horas)\n",
    "materias = load_data(materias)\n",
    "profes = load_data(profes)\n",
    "time = load_data(time)\n"
   ]
  },
  {
   "cell_type": "code",
   "execution_count": null,
   "id": "5dbb9975",
   "metadata": {},
   "outputs": [],
   "source": [
    "\n"
   ]
  },
  {
   "cell_type": "code",
   "execution_count": 4,
   "id": "c503a04c",
   "metadata": {},
   "outputs": [
    {
     "name": "stdout",
     "output_type": "stream",
     "text": [
      "['a las', 'a la', 'en el horario']\n"
     ]
    }
   ],
   "source": [
    "print(list(time))"
   ]
  },
  {
   "cell_type": "code",
   "execution_count": 5,
   "id": "050df2da",
   "metadata": {},
   "outputs": [
    {
     "name": "stdout",
     "output_type": "stream",
     "text": [
      "17136\n"
     ]
    }
   ],
   "source": [
    "i = 0\n",
    "data = []\n",
    "for verb in verbos:\n",
    "    for prha in frase:\n",
    "        for prof in profes:\n",
    "            data.append((verb +' ' +prha+' '+prof +'\\t asesoria.'+prof).split('\\t'))\n",
    "            i=i+1\n",
    "            #break\n",
    "        #break\n",
    "    #break\n",
    "print(i)"
   ]
  },
  {
   "cell_type": "code",
   "execution_count": 6,
   "id": "cf8e5b8d",
   "metadata": {},
   "outputs": [
    {
     "name": "stdout",
     "output_type": "stream",
     "text": [
      "188496\n"
     ]
    }
   ],
   "source": [
    "for verb in verbos:\n",
    "    for prha in frase:\n",
    "        for prof in profes:\n",
    "            for dia in dias:\n",
    "                data.append((verb +' ' +prha+' '+prof +' el '+dia+'\\t asesoria.'+prof+',dia.'+dia).split('\\t'))\n",
    "                i=i+1\n",
    "            #break\n",
    "        #break\n",
    "    #break\n",
    "print(i)"
   ]
  },
  {
   "cell_type": "code",
   "execution_count": 7,
   "id": "1d6fd0a0",
   "metadata": {},
   "outputs": [],
   "source": [
    "for verb in verbos:\n",
    "    for prha in frase:\n",
    "        for prof in profes:\n",
    "            for dia in dias:\n",
    "                for t in time:\n",
    "                    for h in horas:\n",
    "                        data.append((verb +' ' +prha+' '+prof +' el '+dia+' '+t+' '+h+'\\t asesoria.'+prof+',dia.'+dia+',tiempo.'+h).split('\\t'))\n",
    "                        i=i+1"
   ]
  },
  {
   "cell_type": "code",
   "execution_count": 17,
   "id": "f1cfab5e",
   "metadata": {},
   "outputs": [
    {
     "name": "stdout",
     "output_type": "stream",
     "text": [
      "194521\n",
      "196537\n",
      "198553\n",
      "200569\n",
      "202585\n",
      "204601\n",
      "206617\n",
      "208633\n",
      "210649\n",
      "212665\n",
      "214681\n",
      "216697\n",
      "218713\n",
      "220729\n",
      "222745\n",
      "224761\n",
      "226777\n",
      "228793\n",
      "230809\n",
      "232825\n",
      "234841\n",
      "236857\n",
      "238873\n",
      "240889\n",
      "242905\n",
      "244921\n",
      "246937\n",
      "248953\n",
      "250969\n",
      "252985\n",
      "255001\n",
      "257017\n",
      "259033\n",
      "261049\n",
      "263065\n",
      "265081\n",
      "267097\n",
      "269113\n",
      "271129\n",
      "273145\n",
      "275161\n",
      "277177\n",
      "279193\n",
      "281209\n",
      "283225\n",
      "285241\n",
      "287257\n",
      "289273\n",
      "291289\n",
      "293305\n",
      "295321\n",
      "297337\n",
      "299353\n",
      "301369\n",
      "303385\n",
      "305401\n",
      "307417\n",
      "309433\n",
      "311449\n",
      "313465\n",
      "315481\n",
      "317497\n",
      "319513\n",
      "321529\n",
      "323545\n",
      "325561\n",
      "327577\n",
      "329593\n",
      "331609\n",
      "333625\n",
      "335641\n",
      "337657\n",
      "339673\n",
      "341689\n",
      "343705\n",
      "345721\n",
      "347737\n",
      "349753\n",
      "351769\n",
      "353785\n",
      "355801\n",
      "357817\n",
      "359833\n",
      "361849\n",
      "363865\n",
      "365881\n",
      "367897\n",
      "369913\n",
      "371929\n",
      "373945\n",
      "375961\n",
      "377977\n",
      "379993\n",
      "382009\n",
      "384025\n",
      "386041\n",
      "388057\n",
      "390073\n",
      "392089\n",
      "394105\n",
      "396121\n",
      "398137\n",
      "400153\n",
      "402169\n",
      "404185\n",
      "406201\n",
      "408217\n",
      "410233\n",
      "412249\n",
      "414265\n",
      "416281\n",
      "418297\n",
      "420313\n",
      "422329\n",
      "424345\n",
      "426361\n",
      "428377\n",
      "430393\n",
      "432409\n",
      "434425\n",
      "436441\n",
      "438457\n",
      "440473\n",
      "442489\n",
      "444505\n",
      "446521\n",
      "448537\n",
      "450553\n",
      "452569\n",
      "454585\n",
      "456601\n",
      "458617\n",
      "460633\n",
      "462649\n",
      "464665\n",
      "466681\n",
      "468697\n",
      "470713\n",
      "472729\n",
      "474745\n",
      "476761\n",
      "478777\n",
      "480793\n",
      "482809\n",
      "484825\n",
      "486841\n",
      "488857\n",
      "490873\n",
      "492889\n",
      "494905\n",
      "496921\n",
      "498937\n",
      "500953\n",
      "502969\n",
      "504985\n",
      "507001\n",
      "509017\n",
      "511033\n",
      "513049\n",
      "515065\n",
      "517081\n",
      "519097\n"
     ]
    },
    {
     "ename": "KeyboardInterrupt",
     "evalue": "",
     "output_type": "error",
     "traceback": [
      "\u001b[1;31m---------------------------------------------------------------------------\u001b[0m",
      "\u001b[1;31mKeyboardInterrupt\u001b[0m                         Traceback (most recent call last)",
      "\u001b[1;32m~\\AppData\\Local\\Temp/ipykernel_21676/202461304.py\u001b[0m in \u001b[0;36m<module>\u001b[1;34m\u001b[0m\n\u001b[0;32m      7\u001b[0m                     \u001b[1;32mfor\u001b[0m \u001b[0mh\u001b[0m \u001b[1;32min\u001b[0m \u001b[0mhoras\u001b[0m\u001b[1;33m:\u001b[0m\u001b[1;33m\u001b[0m\u001b[1;33m\u001b[0m\u001b[0m\n\u001b[0;32m      8\u001b[0m                         \u001b[1;32mfor\u001b[0m \u001b[0mm\u001b[0m \u001b[1;32min\u001b[0m \u001b[0mmaterias\u001b[0m\u001b[1;33m:\u001b[0m\u001b[1;33m\u001b[0m\u001b[1;33m\u001b[0m\u001b[0m\n\u001b[1;32m----> 9\u001b[1;33m                             \u001b[0mf\u001b[0m \u001b[1;33m=\u001b[0m \u001b[0mopen\u001b[0m\u001b[1;33m(\u001b[0m\u001b[1;34m'data.txt'\u001b[0m\u001b[1;33m,\u001b[0m \u001b[1;34m'w'\u001b[0m\u001b[1;33m)\u001b[0m\u001b[1;33m\u001b[0m\u001b[1;33m\u001b[0m\u001b[0m\n\u001b[0m\u001b[0;32m     10\u001b[0m                             \u001b[0mf\u001b[0m\u001b[1;33m.\u001b[0m\u001b[0mwrite\u001b[0m\u001b[1;33m(\u001b[0m\u001b[0mverb\u001b[0m \u001b[1;33m+\u001b[0m\u001b[1;34m' '\u001b[0m \u001b[1;33m+\u001b[0m\u001b[0mprha\u001b[0m\u001b[1;33m+\u001b[0m\u001b[1;34m' '\u001b[0m\u001b[1;33m+\u001b[0m\u001b[0mprof\u001b[0m \u001b[1;33m+\u001b[0m\u001b[1;34m' el '\u001b[0m\u001b[1;33m+\u001b[0m\u001b[0mdia\u001b[0m\u001b[1;33m+\u001b[0m\u001b[1;34m' '\u001b[0m\u001b[1;33m+\u001b[0m\u001b[0mt\u001b[0m\u001b[1;33m+\u001b[0m\u001b[1;34m' '\u001b[0m\u001b[1;33m+\u001b[0m\u001b[0mh\u001b[0m\u001b[1;33m+\u001b[0m\u001b[1;34m' en la asignatura '\u001b[0m\u001b[1;33m+\u001b[0m\u001b[0mm\u001b[0m\u001b[1;33m+\u001b[0m\u001b[1;34m'\\t asesoria.'\u001b[0m\u001b[1;33m+\u001b[0m\u001b[0mprof\u001b[0m\u001b[1;33m+\u001b[0m\u001b[1;34m',dia.'\u001b[0m\u001b[1;33m+\u001b[0m\u001b[0mdia\u001b[0m\u001b[1;33m+\u001b[0m\u001b[1;34m',tiempo.'\u001b[0m\u001b[1;33m+\u001b[0m\u001b[0mh\u001b[0m\u001b[1;33m+\u001b[0m\u001b[1;34m',materia.'\u001b[0m\u001b[1;33m+\u001b[0m\u001b[0mm\u001b[0m\u001b[1;33m+\u001b[0m\u001b[1;34m'\\n'\u001b[0m\u001b[1;33m)\u001b[0m\u001b[1;33m\u001b[0m\u001b[1;33m\u001b[0m\u001b[0m\n\u001b[0;32m     11\u001b[0m                             \u001b[0mf\u001b[0m\u001b[1;33m.\u001b[0m\u001b[0mclose\u001b[0m\u001b[1;33m(\u001b[0m\u001b[1;33m)\u001b[0m\u001b[1;33m\u001b[0m\u001b[1;33m\u001b[0m\u001b[0m\n",
      "\u001b[1;32mc:\\program files\\python38\\lib\\_bootlocale.py\u001b[0m in \u001b[0;36mgetpreferredencoding\u001b[1;34m(do_setlocale)\u001b[0m\n\u001b[0;32m      9\u001b[0m \u001b[1;33m\u001b[0m\u001b[0m\n\u001b[0;32m     10\u001b[0m \u001b[1;32mif\u001b[0m \u001b[0msys\u001b[0m\u001b[1;33m.\u001b[0m\u001b[0mplatform\u001b[0m\u001b[1;33m.\u001b[0m\u001b[0mstartswith\u001b[0m\u001b[1;33m(\u001b[0m\u001b[1;34m\"win\"\u001b[0m\u001b[1;33m)\u001b[0m\u001b[1;33m:\u001b[0m\u001b[1;33m\u001b[0m\u001b[1;33m\u001b[0m\u001b[0m\n\u001b[1;32m---> 11\u001b[1;33m     \u001b[1;32mdef\u001b[0m \u001b[0mgetpreferredencoding\u001b[0m\u001b[1;33m(\u001b[0m\u001b[0mdo_setlocale\u001b[0m\u001b[1;33m=\u001b[0m\u001b[1;32mTrue\u001b[0m\u001b[1;33m)\u001b[0m\u001b[1;33m:\u001b[0m\u001b[1;33m\u001b[0m\u001b[1;33m\u001b[0m\u001b[0m\n\u001b[0m\u001b[0;32m     12\u001b[0m         \u001b[1;32mif\u001b[0m \u001b[0msys\u001b[0m\u001b[1;33m.\u001b[0m\u001b[0mflags\u001b[0m\u001b[1;33m.\u001b[0m\u001b[0mutf8_mode\u001b[0m\u001b[1;33m:\u001b[0m\u001b[1;33m\u001b[0m\u001b[1;33m\u001b[0m\u001b[0m\n\u001b[0;32m     13\u001b[0m             \u001b[1;32mreturn\u001b[0m \u001b[1;34m'UTF-8'\u001b[0m\u001b[1;33m\u001b[0m\u001b[1;33m\u001b[0m\u001b[0m\n",
      "\u001b[1;31mKeyboardInterrupt\u001b[0m: "
     ]
    }
   ],
   "source": [
    "for verb in verbos:\n",
    "    for prha in frase:\n",
    "        for prof in profes:\n",
    "            for dia in dias:\n",
    "                print(i)\n",
    "                for t in time:\n",
    "                    for h in horas:\n",
    "                            f = open('data.txt', 'w')\n",
    "                            f.write(verb +' ' +prha+' '+prof +' el '+dia+' '+t+' '+h+' en la asignatura '+m+'\\t asesoria.'+prof+',dia.'+dia+',tiempo.'+h+',materia.'+m+'\\n')\n",
    "                            f.close()\n",
    "                            #data.append((verb +' ' +prha+' '+prof +' el '+dia+' '+t+' '+h+' en la asignatura '+m+'\\t asesoria.'+prof+',dia.'+dia+',tiempo.'+h+',materia.'+m).split('\\t'))\n",
    "                            i=i+1"
   ]
  },
  {
   "cell_type": "code",
   "execution_count": 8,
   "id": "d4ebd45c",
   "metadata": {},
   "outputs": [
    {
     "name": "stdout",
     "output_type": "stream",
     "text": [
      "['para programar una cita con el maestro said el pasado maÃ±ana en el horario 11pm', ' asesoria.said,dia.pasado maÃ±ana,tiempo.11pm']\n"
     ]
    }
   ],
   "source": [
    "print(data[-1])"
   ]
  },
  {
   "cell_type": "code",
   "execution_count": 9,
   "id": "c0571271",
   "metadata": {},
   "outputs": [
    {
     "name": "stdout",
     "output_type": "stream",
     "text": [
      "24864336\n"
     ]
    }
   ],
   "source": [
    "print(i)"
   ]
  },
  {
   "cell_type": "code",
   "execution_count": 21,
   "id": "63366e17",
   "metadata": {},
   "outputs": [],
   "source": [
    "textfile=open(\"data.txt\",\"w\")\n",
    "for element in data:\n",
    "    #(element+'\\n')\n",
    "    textfile.write(element[0]+'\\t'+element[1]+'\\n')\n",
    "textfile.close()"
   ]
  },
  {
   "cell_type": "code",
   "execution_count": null,
   "id": "887b5b9a",
   "metadata": {},
   "outputs": [],
   "source": []
  }
 ],
 "metadata": {
  "kernelspec": {
   "display_name": "Python 3 (ipykernel)",
   "language": "python",
   "name": "python3"
  },
  "language_info": {
   "codemirror_mode": {
    "name": "ipython",
    "version": 3
   },
   "file_extension": ".py",
   "mimetype": "text/x-python",
   "name": "python",
   "nbconvert_exporter": "python",
   "pygments_lexer": "ipython3",
   "version": "3.8.10"
  }
 },
 "nbformat": 4,
 "nbformat_minor": 5
}
